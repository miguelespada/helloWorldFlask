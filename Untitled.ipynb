{
 "cells": [
  {
   "cell_type": "code",
   "execution_count": 1,
   "metadata": {
    "collapsed": true
   },
   "outputs": [],
   "source": [
    "from humbledb import Mongo, Document\n"
   ]
  },
  {
   "cell_type": "code",
   "execution_count": 2,
   "metadata": {
    "collapsed": true
   },
   "outputs": [],
   "source": [
    "class Operation(Document):\n",
    "  config_database = 'Operaciones'\n",
    "  config_collection = 'sumas'\n",
    "  v1 = 'op1'\n",
    "  v2 = 'op2'\n",
    "  ellapsed = 'ellapsed'\n",
    "  timestamp = 'timestamp'\n",
    "\n",
    "  def check(self, v):\n",
    "    return self.v1 + self.v2 == v"
   ]
  },
  {
   "cell_type": "code",
   "execution_count": 5,
   "metadata": {
    "collapsed": true
   },
   "outputs": [],
   "source": [
    "with Mongo:\n",
    "    ops = Operation.find()"
   ]
  },
  {
   "cell_type": "code",
   "execution_count": 6,
   "metadata": {
    "collapsed": false
   },
   "outputs": [
    {
     "name": "stdout",
     "output_type": "stream",
     "text": [
      "Operation({u'ellapsed': 2.663362979888916, u'_id': ObjectId('58d133b2a3f5e3dc85cb2f04'), u'op1': 26, u'op2': 49})\n",
      "Operation({u'ellapsed': 7.499439001083374, u'_id': ObjectId('58d133f5a3f5e3dc85cb2f05'), u'op1': 26, u'op2': 72})\n",
      "Operation({u'ellapsed': 1.864943027496338, u'_id': ObjectId('58d133f8a3f5e3dc85cb2f06'), u'op1': 36, u'op2': 76})\n"
     ]
    }
   ],
   "source": [
    "for o in ops: print o"
   ]
  },
  {
   "cell_type": "code",
   "execution_count": null,
   "metadata": {
    "collapsed": true
   },
   "outputs": [],
   "source": []
  }
 ],
 "metadata": {
  "kernelspec": {
   "display_name": "Python 2",
   "language": "python",
   "name": "python2"
  },
  "language_info": {
   "codemirror_mode": {
    "name": "ipython",
    "version": 2
   },
   "file_extension": ".py",
   "mimetype": "text/x-python",
   "name": "python",
   "nbconvert_exporter": "python",
   "pygments_lexer": "ipython2",
   "version": "2.7.10"
  }
 },
 "nbformat": 4,
 "nbformat_minor": 2
}
